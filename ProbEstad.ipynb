{
  "nbformat": 4,
  "nbformat_minor": 0,
  "metadata": {
    "colab": {
      "provenance": [],
      "include_colab_link": true
    },
    "kernelspec": {
      "name": "python3",
      "display_name": "Python 3"
    },
    "language_info": {
      "name": "python"
    }
  },
  "cells": [
    {
      "cell_type": "markdown",
      "metadata": {
        "id": "view-in-github",
        "colab_type": "text"
      },
      "source": [
        "<a href=\"https://colab.research.google.com/github/Manugarciaa/Probabilidad_y_Estadistica/blob/main/ProbEstad.ipynb\" target=\"_parent\"><img src=\"https://colab.research.google.com/assets/colab-badge.svg\" alt=\"Open In Colab\"/></a>"
      ]
    },
    {
      "cell_type": "markdown",
      "source": [
        "#Desarrollo de Trabajo Practico Grupal ⚛"
      ],
      "metadata": {
        "id": "jD_OMRhN_4HD"
      }
    },
    {
      "cell_type": "code",
      "source": [
        "import math\n",
        "import pandas as pd\n",
        "import seaborn as sns\n",
        "import matplotlib.pyplot as plt"
      ],
      "metadata": {
        "id": "TxWTMMX87UI7"
      },
      "execution_count": 43,
      "outputs": []
    },
    {
      "cell_type": "code",
      "source": [
        "DatosExel = pd.read_csv('Datos-Grupo-4.csv')\n",
        "tabla = pd.DataFrame(DatosExel)\n",
        "datos = pd.DataFrame()"
      ],
      "metadata": {
        "id": "fFh0O_YVSRgx"
      },
      "execution_count": 44,
      "outputs": []
    },
    {
      "cell_type": "markdown",
      "source": [
        "#Resolucion del Ejercicio 1\n",
        "---"
      ],
      "metadata": {
        "id": "EPtqBbzN_3OE"
      }
    },
    {
      "cell_type": "code",
      "source": [
        "conteo = tabla['Deporte'].value_counts().sort_index()\n",
        "datos['Datos'] = ['Básquetbol', 'Natación', 'Netball', 'Remo', 'Tenis', 'Waterpolo']\n",
        "datos['Frecuencia Absoluta'] = conteo.values\n",
        "datos['Frecuencia Absoluta Acumulada'] = datos['Frecuencia Absoluta'].cumsum()\n",
        "datos['Frecuencia Relativa'] = round(datos['Frecuencia Absoluta'] / datos['Frecuencia Absoluta'].sum(), 2)\n",
        "datos['Frecuencia Relativa Acumulada'] = round(datos['Frecuencia Relativa'].cumsum(), 2)\n",
        "datos['Porcentaje'] = (datos['Frecuencia Relativa'] * 100).round().astype(int)\n",
        "datos"
      ],
      "metadata": {
        "colab": {
          "base_uri": "https://localhost:8080/",
          "height": 238
        },
        "id": "m1oD9Z_fhQ1r",
        "outputId": "def5e29d-515d-4fa8-c783-53128388ca47"
      },
      "execution_count": 75,
      "outputs": [
        {
          "output_type": "execute_result",
          "data": {
            "text/plain": [
              "        Datos  Frecuencia Absoluta  Frecuencia Absoluta Acumulada  \\\n",
              "0  Básquetbol                   25                             25   \n",
              "1    Natación                   22                             47   \n",
              "2     Netball                   23                             70   \n",
              "3        Remo                   37                            107   \n",
              "4       Tenis                   11                            118   \n",
              "5   Waterpolo                   17                            135   \n",
              "\n",
              "   Frecuencia Relativa  Frecuencia Relativa Acumulada  Porcentaje  \n",
              "0                 0.19                           0.19          19  \n",
              "1                 0.16                           0.35          16  \n",
              "2                 0.17                           0.52          17  \n",
              "3                 0.27                           0.79          27  \n",
              "4                 0.08                           0.87           8  \n",
              "5                 0.13                           1.00          13  "
            ],
            "text/html": [
              "\n",
              "  <div id=\"df-39a19d90-cc0d-40d8-ae54-76c565e0b273\">\n",
              "    <div class=\"colab-df-container\">\n",
              "      <div>\n",
              "<style scoped>\n",
              "    .dataframe tbody tr th:only-of-type {\n",
              "        vertical-align: middle;\n",
              "    }\n",
              "\n",
              "    .dataframe tbody tr th {\n",
              "        vertical-align: top;\n",
              "    }\n",
              "\n",
              "    .dataframe thead th {\n",
              "        text-align: right;\n",
              "    }\n",
              "</style>\n",
              "<table border=\"1\" class=\"dataframe\">\n",
              "  <thead>\n",
              "    <tr style=\"text-align: right;\">\n",
              "      <th></th>\n",
              "      <th>Datos</th>\n",
              "      <th>Frecuencia Absoluta</th>\n",
              "      <th>Frecuencia Absoluta Acumulada</th>\n",
              "      <th>Frecuencia Relativa</th>\n",
              "      <th>Frecuencia Relativa Acumulada</th>\n",
              "      <th>Porcentaje</th>\n",
              "    </tr>\n",
              "  </thead>\n",
              "  <tbody>\n",
              "    <tr>\n",
              "      <th>0</th>\n",
              "      <td>Básquetbol</td>\n",
              "      <td>25</td>\n",
              "      <td>25</td>\n",
              "      <td>0.19</td>\n",
              "      <td>0.19</td>\n",
              "      <td>19</td>\n",
              "    </tr>\n",
              "    <tr>\n",
              "      <th>1</th>\n",
              "      <td>Natación</td>\n",
              "      <td>22</td>\n",
              "      <td>47</td>\n",
              "      <td>0.16</td>\n",
              "      <td>0.35</td>\n",
              "      <td>16</td>\n",
              "    </tr>\n",
              "    <tr>\n",
              "      <th>2</th>\n",
              "      <td>Netball</td>\n",
              "      <td>23</td>\n",
              "      <td>70</td>\n",
              "      <td>0.17</td>\n",
              "      <td>0.52</td>\n",
              "      <td>17</td>\n",
              "    </tr>\n",
              "    <tr>\n",
              "      <th>3</th>\n",
              "      <td>Remo</td>\n",
              "      <td>37</td>\n",
              "      <td>107</td>\n",
              "      <td>0.27</td>\n",
              "      <td>0.79</td>\n",
              "      <td>27</td>\n",
              "    </tr>\n",
              "    <tr>\n",
              "      <th>4</th>\n",
              "      <td>Tenis</td>\n",
              "      <td>11</td>\n",
              "      <td>118</td>\n",
              "      <td>0.08</td>\n",
              "      <td>0.87</td>\n",
              "      <td>8</td>\n",
              "    </tr>\n",
              "    <tr>\n",
              "      <th>5</th>\n",
              "      <td>Waterpolo</td>\n",
              "      <td>17</td>\n",
              "      <td>135</td>\n",
              "      <td>0.13</td>\n",
              "      <td>1.00</td>\n",
              "      <td>13</td>\n",
              "    </tr>\n",
              "  </tbody>\n",
              "</table>\n",
              "</div>\n",
              "      <button class=\"colab-df-convert\" onclick=\"convertToInteractive('df-39a19d90-cc0d-40d8-ae54-76c565e0b273')\"\n",
              "              title=\"Convert this dataframe to an interactive table.\"\n",
              "              style=\"display:none;\">\n",
              "        \n",
              "  <svg xmlns=\"http://www.w3.org/2000/svg\" height=\"24px\"viewBox=\"0 0 24 24\"\n",
              "       width=\"24px\">\n",
              "    <path d=\"M0 0h24v24H0V0z\" fill=\"none\"/>\n",
              "    <path d=\"M18.56 5.44l.94 2.06.94-2.06 2.06-.94-2.06-.94-.94-2.06-.94 2.06-2.06.94zm-11 1L8.5 8.5l.94-2.06 2.06-.94-2.06-.94L8.5 2.5l-.94 2.06-2.06.94zm10 10l.94 2.06.94-2.06 2.06-.94-2.06-.94-.94-2.06-.94 2.06-2.06.94z\"/><path d=\"M17.41 7.96l-1.37-1.37c-.4-.4-.92-.59-1.43-.59-.52 0-1.04.2-1.43.59L10.3 9.45l-7.72 7.72c-.78.78-.78 2.05 0 2.83L4 21.41c.39.39.9.59 1.41.59.51 0 1.02-.2 1.41-.59l7.78-7.78 2.81-2.81c.8-.78.8-2.07 0-2.86zM5.41 20L4 18.59l7.72-7.72 1.47 1.35L5.41 20z\"/>\n",
              "  </svg>\n",
              "      </button>\n",
              "      \n",
              "  <style>\n",
              "    .colab-df-container {\n",
              "      display:flex;\n",
              "      flex-wrap:wrap;\n",
              "      gap: 12px;\n",
              "    }\n",
              "\n",
              "    .colab-df-convert {\n",
              "      background-color: #E8F0FE;\n",
              "      border: none;\n",
              "      border-radius: 50%;\n",
              "      cursor: pointer;\n",
              "      display: none;\n",
              "      fill: #1967D2;\n",
              "      height: 32px;\n",
              "      padding: 0 0 0 0;\n",
              "      width: 32px;\n",
              "    }\n",
              "\n",
              "    .colab-df-convert:hover {\n",
              "      background-color: #E2EBFA;\n",
              "      box-shadow: 0px 1px 2px rgba(60, 64, 67, 0.3), 0px 1px 3px 1px rgba(60, 64, 67, 0.15);\n",
              "      fill: #174EA6;\n",
              "    }\n",
              "\n",
              "    [theme=dark] .colab-df-convert {\n",
              "      background-color: #3B4455;\n",
              "      fill: #D2E3FC;\n",
              "    }\n",
              "\n",
              "    [theme=dark] .colab-df-convert:hover {\n",
              "      background-color: #434B5C;\n",
              "      box-shadow: 0px 1px 3px 1px rgba(0, 0, 0, 0.15);\n",
              "      filter: drop-shadow(0px 1px 2px rgba(0, 0, 0, 0.3));\n",
              "      fill: #FFFFFF;\n",
              "    }\n",
              "  </style>\n",
              "\n",
              "      <script>\n",
              "        const buttonEl =\n",
              "          document.querySelector('#df-39a19d90-cc0d-40d8-ae54-76c565e0b273 button.colab-df-convert');\n",
              "        buttonEl.style.display =\n",
              "          google.colab.kernel.accessAllowed ? 'block' : 'none';\n",
              "\n",
              "        async function convertToInteractive(key) {\n",
              "          const element = document.querySelector('#df-39a19d90-cc0d-40d8-ae54-76c565e0b273');\n",
              "          const dataTable =\n",
              "            await google.colab.kernel.invokeFunction('convertToInteractive',\n",
              "                                                     [key], {});\n",
              "          if (!dataTable) return;\n",
              "\n",
              "          const docLinkHtml = 'Like what you see? Visit the ' +\n",
              "            '<a target=\"_blank\" href=https://colab.research.google.com/notebooks/data_table.ipynb>data table notebook</a>'\n",
              "            + ' to learn more about interactive tables.';\n",
              "          element.innerHTML = '';\n",
              "          dataTable['output_type'] = 'display_data';\n",
              "          await google.colab.output.renderOutput(dataTable, element);\n",
              "          const docLink = document.createElement('div');\n",
              "          docLink.innerHTML = docLinkHtml;\n",
              "          element.appendChild(docLink);\n",
              "        }\n",
              "      </script>\n",
              "    </div>\n",
              "  </div>\n",
              "  "
            ]
          },
          "metadata": {},
          "execution_count": 75
        }
      ]
    },
    {
      "cell_type": "markdown",
      "source": [
        "#Resolucion del Ejercicio 2\n",
        "\n",
        "---\n",
        "\n"
      ],
      "metadata": {
        "id": "02AnYimEACGk"
      }
    },
    {
      "cell_type": "code",
      "source": [
        "cantidad = tabla['Sexo'].value_counts()\n",
        "etiquetas = ['Hombre', 'Mujer']\n",
        "colores = ['#ADD8E6', '#FFC0CB']\n",
        "plt.pie(cantidad, labels=etiquetas, autopct='%1.1f%%', startangle=90, colors=colores)\n",
        "plt.title('Distribución de Género')\n",
        "plt.show()"
      ],
      "metadata": {
        "colab": {
          "base_uri": "https://localhost:8080/",
          "height": 428
        },
        "id": "zxB9FdYThp9A",
        "outputId": "9c33d15c-ca60-4a49-9dc9-96de86ec63b5"
      },
      "execution_count": null,
      "outputs": [
        {
          "output_type": "display_data",
          "data": {
            "text/plain": [
              "<Figure size 640x480 with 1 Axes>"
            ],
            "image/png": "[encoded data removed]"
          },
          "metadata": {}
        }
      ]
    },
    {
      "cell_type": "code",
      "source": [
        "conteo = tabla['Estado nutricional'].value_counts()\n",
        "etiquetas = ['Bajo peso', 'Normal peso', 'Sobre peso']\n",
        "colores = ['#A9DFBF', '#F9E79F', '#EDBB99']\n",
        "plt.pie(conteo.values, labels=etiquetas, autopct='%1.1f%%', startangle=90, colors=colores)\n",
        "plt.title('Distribución del estado nutricional')\n",
        "plt.show()"
      ],
      "metadata": {
        "colab": {
          "base_uri": "https://localhost:8080/",
          "height": 428
        },
        "id": "LM-sFMt9aEpM",
        "outputId": "0039e271-210f-423c-c68a-c99c5920e938"
      },
      "execution_count": 18,
      "outputs": [
        {
          "output_type": "display_data",
          "data": {
            "text/plain": [
              "<Figure size 640x480 with 1 Axes>"
            ],
            "image/png": "[encoded data removed]"
          },
          "metadata": {}
        }
      ]
    },
    {
      "cell_type": "markdown",
      "source": [
        "\n",
        "#Resolucion del Ejercicio 3\n",
        "---\n",
        "\n"
      ],
      "metadata": {
        "id": "OZJiSz7onbpE"
      }
    },
    {
      "cell_type": "markdown",
      "source": [
        "El HISTOGRAMA es la representación gráfica de una distribución de frecuencias. Es un gráfico formado por un conjunto de rectángulos colocados uno al lado del otro, donde el área de cada rectángulo es proporcional a la frecuencia de la clase que representa."
      ],
      "metadata": {
        "id": "OHVKlNe3ab8L"
      }
    },
    {
      "cell_type": "code",
      "source": [
        "intervalos = round(math.log2(len(DatosExel.N)))"
      ],
      "metadata": {
        "id": "dPbjXxmtS0BR"
      },
      "execution_count": 72,
      "outputs": []
    },
    {
      "cell_type": "code",
      "source": [
        "ax = sns.histplot(DatosExel.Leucocitos, kde=False, color='#AF7AC5', alpha=.4) #, bins=intervalos)\n",
        "ax.figure.set_size_inches(8, 4)\n",
        "ax.set_title('Histograma de Leucocitos', fontsize=18)\n",
        "ax.set_xlabel('Leucocitos (1000/mm³)', fontsize=14)\n",
        "plt.show()"
      ],
      "metadata": {
        "colab": {
          "base_uri": "https://localhost:8080/",
          "height": 420
        },
        "id": "to3DuosoMy4o",
        "outputId": "90365646-a594-488f-8975-4c7f85b63b3b"
      },
      "execution_count": 73,
      "outputs": [
        {
          "output_type": "display_data",
          "data": {
            "text/plain": [
              "<Figure size 800x400 with 1 Axes>"
            ],
            "image/png": "[encoded data removed]"
          },
          "metadata": {}
        }
      ]
    },
    {
      "cell_type": "code",
      "source": [
        "#@title\n",
        "\n",
        "tabla_intervalos = pd.cut(DatosExel.Leucocitos, bins=intervalos_redondeados)\n",
        "tabla_frecuencias = pd.value_counts(tabla_intervalos).reset_index()\n",
        "tabla_frecuencias.columns = ['Intervalo', 'Frecuencia']\n",
        "tabla_frecuencias = tabla_frecuencias.sort_values('Intervalo').reset_index(drop=True)\n",
        "tabla_frecuencias['Absolutas acumuladas'] = tabla_frecuencias['Frecuencia'].cumsum()\n",
        "tabla_frecuencias['Relativas'] = (tabla_frecuencias['Frecuencia'] / tabla_frecuencias['Frecuencia'].sum()).round(2)\n",
        "tabla_frecuencias['Relativas acumuladas'] = tabla_frecuencias['Relativas'].cumsum().round(2)\n",
        "tabla_frecuencias"
      ],
      "metadata": {
        "colab": {
          "base_uri": "https://localhost:8080/",
          "height": 269
        },
        "cellView": "form",
        "id": "C7aULiLRVXdl",
        "outputId": "5de6eb56-da55-4179-b462-693ae74855bb"
      },
      "execution_count": 95,
      "outputs": [
        {
          "output_type": "execute_result",
          "data": {
            "text/plain": [
              "          Intervalo  Frecuencia  Absolutas acumuladas  Relativas  \\\n",
              "0    (3.289, 4.871]           9                     9       0.07   \n",
              "1    (4.871, 6.443]          47                    56       0.35   \n",
              "2    (6.443, 8.014]          41                    97       0.30   \n",
              "3    (8.014, 9.586]          24                   121       0.18   \n",
              "4   (9.586, 11.157]          10                   131       0.07   \n",
              "5  (11.157, 12.729]           1                   132       0.01   \n",
              "6    (12.729, 14.3]           3                   135       0.02   \n",
              "\n",
              "   Relativas acumuladas  \n",
              "0                  0.07  \n",
              "1                  0.42  \n",
              "2                  0.72  \n",
              "3                  0.90  \n",
              "4                  0.97  \n",
              "5                  0.98  \n",
              "6                  1.00  "
            ],
            "text/html": [
              "\n",
              "  <div id=\"df-0a6895ed-146e-45bf-9d17-fbc33fe6482e\">\n",
              "    <div class=\"colab-df-container\">\n",
              "      <div>\n",
              "<style scoped>\n",
              "    .dataframe tbody tr th:only-of-type {\n",
              "        vertical-align: middle;\n",
              "    }\n",
              "\n",
              "    .dataframe tbody tr th {\n",
              "        vertical-align: top;\n",
              "    }\n",
              "\n",
              "    .dataframe thead th {\n",
              "        text-align: right;\n",
              "    }\n",
              "</style>\n",
              "<table border=\"1\" class=\"dataframe\">\n",
              "  <thead>\n",
              "    <tr style=\"text-align: right;\">\n",
              "      <th></th>\n",
              "      <th>Intervalo</th>\n",
              "      <th>Frecuencia</th>\n",
              "      <th>Absolutas acumuladas</th>\n",
              "      <th>Relativas</th>\n",
              "      <th>Relativas acumuladas</th>\n",
              "    </tr>\n",
              "  </thead>\n",
              "  <tbody>\n",
              "    <tr>\n",
              "      <th>0</th>\n",
              "      <td>(3.289, 4.871]</td>\n",
              "      <td>9</td>\n",
              "      <td>9</td>\n",
              "      <td>0.07</td>\n",
              "      <td>0.07</td>\n",
              "    </tr>\n",
              "    <tr>\n",
              "      <th>1</th>\n",
              "      <td>(4.871, 6.443]</td>\n",
              "      <td>47</td>\n",
              "      <td>56</td>\n",
              "      <td>0.35</td>\n",
              "      <td>0.42</td>\n",
              "    </tr>\n",
              "    <tr>\n",
              "      <th>2</th>\n",
              "      <td>(6.443, 8.014]</td>\n",
              "      <td>41</td>\n",
              "      <td>97</td>\n",
              "      <td>0.30</td>\n",
              "      <td>0.72</td>\n",
              "    </tr>\n",
              "    <tr>\n",
              "      <th>3</th>\n",
              "      <td>(8.014, 9.586]</td>\n",
              "      <td>24</td>\n",
              "      <td>121</td>\n",
              "      <td>0.18</td>\n",
              "      <td>0.90</td>\n",
              "    </tr>\n",
              "    <tr>\n",
              "      <th>4</th>\n",
              "      <td>(9.586, 11.157]</td>\n",
              "      <td>10</td>\n",
              "      <td>131</td>\n",
              "      <td>0.07</td>\n",
              "      <td>0.97</td>\n",
              "    </tr>\n",
              "    <tr>\n",
              "      <th>5</th>\n",
              "      <td>(11.157, 12.729]</td>\n",
              "      <td>1</td>\n",
              "      <td>132</td>\n",
              "      <td>0.01</td>\n",
              "      <td>0.98</td>\n",
              "    </tr>\n",
              "    <tr>\n",
              "      <th>6</th>\n",
              "      <td>(12.729, 14.3]</td>\n",
              "      <td>3</td>\n",
              "      <td>135</td>\n",
              "      <td>0.02</td>\n",
              "      <td>1.00</td>\n",
              "    </tr>\n",
              "  </tbody>\n",
              "</table>\n",
              "</div>\n",
              "      <button class=\"colab-df-convert\" onclick=\"convertToInteractive('df-0a6895ed-146e-45bf-9d17-fbc33fe6482e')\"\n",
              "              title=\"Convert this dataframe to an interactive table.\"\n",
              "              style=\"display:none;\">\n",
              "        \n",
              "  <svg xmlns=\"http://www.w3.org/2000/svg\" height=\"24px\"viewBox=\"0 0 24 24\"\n",
              "       width=\"24px\">\n",
              "    <path d=\"M0 0h24v24H0V0z\" fill=\"none\"/>\n",
              "    <path d=\"M18.56 5.44l.94 2.06.94-2.06 2.06-.94-2.06-.94-.94-2.06-.94 2.06-2.06.94zm-11 1L8.5 8.5l.94-2.06 2.06-.94-2.06-.94L8.5 2.5l-.94 2.06-2.06.94zm10 10l.94 2.06.94-2.06 2.06-.94-2.06-.94-.94-2.06-.94 2.06-2.06.94z\"/><path d=\"M17.41 7.96l-1.37-1.37c-.4-.4-.92-.59-1.43-.59-.52 0-1.04.2-1.43.59L10.3 9.45l-7.72 7.72c-.78.78-.78 2.05 0 2.83L4 21.41c.39.39.9.59 1.41.59.51 0 1.02-.2 1.41-.59l7.78-7.78 2.81-2.81c.8-.78.8-2.07 0-2.86zM5.41 20L4 18.59l7.72-7.72 1.47 1.35L5.41 20z\"/>\n",
              "  </svg>\n",
              "      </button>\n",
              "      \n",
              "  <style>\n",
              "    .colab-df-container {\n",
              "      display:flex;\n",
              "      flex-wrap:wrap;\n",
              "      gap: 12px;\n",
              "    }\n",
              "\n",
              "    .colab-df-convert {\n",
              "      background-color: #E8F0FE;\n",
              "      border: none;\n",
              "      border-radius: 50%;\n",
              "      cursor: pointer;\n",
              "      display: none;\n",
              "      fill: #1967D2;\n",
              "      height: 32px;\n",
              "      padding: 0 0 0 0;\n",
              "      width: 32px;\n",
              "    }\n",
              "\n",
              "    .colab-df-convert:hover {\n",
              "      background-color: #E2EBFA;\n",
              "      box-shadow: 0px 1px 2px rgba(60, 64, 67, 0.3), 0px 1px 3px 1px rgba(60, 64, 67, 0.15);\n",
              "      fill: #174EA6;\n",
              "    }\n",
              "\n",
              "    [theme=dark] .colab-df-convert {\n",
              "      background-color: #3B4455;\n",
              "      fill: #D2E3FC;\n",
              "    }\n",
              "\n",
              "    [theme=dark] .colab-df-convert:hover {\n",
              "      background-color: #434B5C;\n",
              "      box-shadow: 0px 1px 3px 1px rgba(0, 0, 0, 0.15);\n",
              "      filter: drop-shadow(0px 1px 2px rgba(0, 0, 0, 0.3));\n",
              "      fill: #FFFFFF;\n",
              "    }\n",
              "  </style>\n",
              "\n",
              "      <script>\n",
              "        const buttonEl =\n",
              "          document.querySelector('#df-0a6895ed-146e-45bf-9d17-fbc33fe6482e button.colab-df-convert');\n",
              "        buttonEl.style.display =\n",
              "          google.colab.kernel.accessAllowed ? 'block' : 'none';\n",
              "\n",
              "        async function convertToInteractive(key) {\n",
              "          const element = document.querySelector('#df-0a6895ed-146e-45bf-9d17-fbc33fe6482e');\n",
              "          const dataTable =\n",
              "            await google.colab.kernel.invokeFunction('convertToInteractive',\n",
              "                                                     [key], {});\n",
              "          if (!dataTable) return;\n",
              "\n",
              "          const docLinkHtml = 'Like what you see? Visit the ' +\n",
              "            '<a target=\"_blank\" href=https://colab.research.google.com/notebooks/data_table.ipynb>data table notebook</a>'\n",
              "            + ' to learn more about interactive tables.';\n",
              "          element.innerHTML = '';\n",
              "          dataTable['output_type'] = 'display_data';\n",
              "          await google.colab.output.renderOutput(dataTable, element);\n",
              "          const docLink = document.createElement('div');\n",
              "          docLink.innerHTML = docLinkHtml;\n",
              "          element.appendChild(docLink);\n",
              "        }\n",
              "      </script>\n",
              "    </div>\n",
              "  </div>\n",
              "  "
            ]
          },
          "metadata": {},
          "execution_count": 95
        }
      ]
    },
    {
      "cell_type": "markdown",
      "source": [
        "#Resolucion del Ejercicio 4\n",
        "---\n"
      ],
      "metadata": {
        "id": "BJGPFmIXoREd"
      }
    },
    {
      "cell_type": "code",
      "source": [
        "imc_hombres = tabla.loc[tabla['Sexo'] == 1, 'IMC']\n",
        "imc_mujeres = tabla.loc[tabla['Sexo'] == 2, 'IMC']\n",
        "\n",
        "plt.figure(figsize=(10, 4))\n",
        "\n",
        "plt.subplot(1, 2, 1)\n",
        "plt.boxplot(imc_hombres, vert=False)\n",
        "plt.title('Diagrama de Caja y Brazos - Hombres')\n",
        "plt.xlabel('IMC')\n",
        "plt.ylabel('Hombres')\n",
        "\n",
        "plt.subplot(1, 2, 2)\n",
        "plt.boxplot(imc_mujeres, vert=False)\n",
        "plt.title('Diagrama de Caja y Brazos - Mujeres')\n",
        "plt.xlabel('IMC')\n",
        "plt.ylabel('Mujeres')\n",
        "\n",
        "plt.tight_layout()\n",
        "plt.show()"
      ],
      "metadata": {
        "colab": {
          "base_uri": "https://localhost:8080/",
          "height": 407
        },
        "id": "sUIgPFQboUq2",
        "outputId": "c660605d-d444-4e6b-a9cb-6722f2be73f4"
      },
      "execution_count": null,
      "outputs": [
        {
          "output_type": "display_data",
          "data": {
            "text/plain": [
              "<Figure size 1000x400 with 2 Axes>"
            ],
            "image/png": "[encoded data removed]"
          },
          "metadata": {}
        }
      ]
    },
    {
      "cell_type": "markdown",
      "source": [
        "#Resolucion del Ejercicio 5\n",
        "---\n"
      ],
      "metadata": {
        "id": "i8HDVDmYreG_"
      }
    },
    {
      "cell_type": "code",
      "source": [
        "imc = tabla['IMC']\n",
        "hematocrito = tabla['Hematocrito']\n",
        "\n",
        "plt.scatter(imc, hematocrito)\n",
        "\n",
        "plt.title('Diagrama de Dispersión - IMC vs. Hematocrito')\n",
        "plt.xlabel('IMC')\n",
        "plt.ylabel('Hematocrito')\n",
        "\n",
        "plt.show()"
      ],
      "metadata": {
        "colab": {
          "base_uri": "https://localhost:8080/",
          "height": 472
        },
        "id": "JhKeL2WVrdPG",
        "outputId": "7fcbbc44-36c9-499f-ad40-9bdc54b8a248"
      },
      "execution_count": null,
      "outputs": [
        {
          "output_type": "display_data",
          "data": {
            "text/plain": [
              "<Figure size 640x480 with 1 Axes>"
            ],
            "image/png": "[encoded data removed]"
          },
          "metadata": {}
        }
      ]
    },
    {
      "cell_type": "markdown",
      "source": [
        "#Resolucion del Ejercicio 6\n",
        "---"
      ],
      "metadata": {
        "id": "NTNeIkoksVxH"
      }
    },
    {
      "cell_type": "code",
      "source": [
        "leucocitos_stats = tabla['Leucocitos'].describe()\n",
        "mediana_leucocitos = leucocitos_stats['50%']\n",
        "primer_cuartil_leucocitos = leucocitos_stats['25%']\n",
        "tercer_cuartil_leucocitos = leucocitos_stats['75%']\n",
        "\n",
        "hematocrito_stats = tabla['Hematocrito'].describe()\n",
        "desvio_estandar_hematocrito = hematocrito_stats['std']\n",
        "\n",
        "eritrocitos_stats = tabla['Eritrocitos'].describe()"
      ],
      "metadata": {
        "id": "pcBniiBzsefz"
      },
      "execution_count": null,
      "outputs": []
    },
    {
      "cell_type": "code",
      "source": [
        "print(\"Estadísticas de Leucocitos:\")\n",
        "print(\"Mediana:\", mediana_leucocitos)\n",
        "print(\"1er Cuartil:\", primer_cuartil_leucocitos)\n",
        "print(\"3er Cuartil:\", tercer_cuartil_leucocitos)\n",
        "\n",
        "print(\"\\nEstadísticas de Hematocrito:\")\n",
        "print(\"Desvío Estándar:\", desvio_estandar_hematocrito)\n",
        "\n",
        "print(\"\\nEstadísticas de Eritrocitos:\")\n",
        "print(eritrocitos_stats)"
      ],
      "metadata": {
        "colab": {
          "base_uri": "https://localhost:8080/"
        },
        "id": "ld3MkFfAt0Yr",
        "outputId": "89523f6f-3726-4548-87fe-0ec4657e26e5"
      },
      "execution_count": null,
      "outputs": [
        {
          "output_type": "stream",
          "name": "stdout",
          "text": [
            "Estadísticas de Leucocitos:\n",
            "Mediana: 6.8\n",
            "1er Cuartil: 5.9\n",
            "3er Cuartil: 8.3\n",
            "\n",
            "Estadísticas de Hematocrito:\n",
            "Desvío Estándar: 3.4945985328035376\n",
            "\n",
            "Estadísticas de Eritrocitos:\n",
            "count    135.000000\n",
            "mean       4.640963\n",
            "std        0.425930\n",
            "min        3.800000\n",
            "25%        4.310000\n",
            "50%        4.570000\n",
            "75%        5.015000\n",
            "max        5.660000\n",
            "Name: Eritrocitos, dtype: float64\n"
          ]
        }
      ]
    }
  ]
}